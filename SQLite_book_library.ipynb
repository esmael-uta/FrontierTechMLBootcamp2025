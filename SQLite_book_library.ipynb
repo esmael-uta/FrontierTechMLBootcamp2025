{
 "cells": [
  {
   "cell_type": "markdown",
   "metadata": {},
   "source": [
    "# **SQLite Browser Assignment: Personal Book Library**"
   ]
  },
  {
   "cell_type": "code",
   "execution_count": 1,
   "metadata": {},
   "outputs": [],
   "source": [
    "import sqlite3"
   ]
  },
  {
   "cell_type": "markdown",
   "metadata": {},
   "source": [
    "# Step 1: Database Creation"
   ]
  },
  {
   "cell_type": "code",
   "execution_count": 2,
   "metadata": {},
   "outputs": [],
   "source": [
    "def create_database():\n",
    "    # Connect to database (creates it if it doesn't exist)\n",
    "    conn = sqlite3.connect(\"PersonalLibrary.db\")\n",
    "    cursor = conn.cursor()\n",
    "    return conn, cursor"
   ]
  },
  {
   "cell_type": "markdown",
   "metadata": {},
   "source": [
    "# Step 2: Table Design"
   ]
  },
  {
   "cell_type": "code",
   "execution_count": 3,
   "metadata": {},
   "outputs": [],
   "source": [
    "\n",
    "def create_table(cursor):\n",
    "    cursor.execute('''\n",
    "        CREATE TABLE IF NOT EXISTS Books (\n",
    "            BookID INTEGER PRIMARY KEY,\n",
    "            Title TEXT NOT NULL,\n",
    "            Author TEXT NOT NULL,\n",
    "            YearPublished INTEGER,\n",
    "            Genre TEXT\n",
    "        )\n",
    "    ''')"
   ]
  },
  {
   "cell_type": "markdown",
   "metadata": {},
   "source": [
    "# Step 3: Data Insertion"
   ]
  },
  {
   "cell_type": "code",
   "execution_count": 4,
   "metadata": {},
   "outputs": [],
   "source": [
    "def insert_data(cursor):\n",
    "    books = [\n",
    "        (1, \"To Kill a Mockingbird\", \"Harper Lee\", 1960, \"Fiction\"),\n",
    "        (2, \"1984\", \"George Orwell\", 1949, \"Fiction\"),\n",
    "        (3, \"The Great Gatsby\", \"F. Scott Fitzgerald\", 1925, \"Fiction\"),\n",
    "        (4, \"Sapiens\", \"Yuval Noah Harari\", 2011, \"Non-Fiction\"),\n",
    "        (5, \"The Hobbit\", \"J.R.R. Tolkien\", 1937, \"Fantasy\")\n",
    "    ]\n",
    "    \n",
    "    cursor.executemany('''\n",
    "        INSERT INTO Books (BookID, Title, Author, YearPublished, Genre)\n",
    "        VALUES (?, ?, ?, ?, ?)\n",
    "    ''', books)"
   ]
  },
  {
   "cell_type": "markdown",
   "metadata": {},
   "source": [
    "# Step 4: Data Retrieval"
   ]
  },
  {
   "cell_type": "code",
   "execution_count": 5,
   "metadata": {},
   "outputs": [],
   "source": [
    "def query_data(cursor):\n",
    "    # Query 1: List all books\n",
    "    print(\"\\nAll Books:\")\n",
    "    cursor.execute(\"SELECT * FROM Books\")\n",
    "    for row in cursor.fetchall():\n",
    "        print(row)\n",
    "    \n",
    "    # Query 2: Books published after 2000\n",
    "    print(\"\\nBooks after 2000:\")\n",
    "    cursor.execute(\"SELECT Title, Author, YearPublished FROM Books WHERE YearPublished > 2000\")\n",
    "    for row in cursor.fetchall():\n",
    "        print(row)\n",
    "    \n",
    "    # Query 3: Fiction books\n",
    "    print(\"\\nFiction Books:\")\n",
    "    cursor.execute(\"SELECT Title, Author FROM Books WHERE Genre = 'Fiction'\")\n",
    "    for row in cursor.fetchall():\n",
    "        print(row)"
   ]
  },
  {
   "cell_type": "markdown",
   "metadata": {},
   "source": [
    "# Step 5: Data Manipulation\n"
   ]
  },
  {
   "cell_type": "code",
   "execution_count": 6,
   "metadata": {},
   "outputs": [],
   "source": [
    "def manipulate_data(cursor):\n",
    "    # Update YearPublished for one book\n",
    "    cursor.execute(\"UPDATE Books SET YearPublished = 2025 WHERE BookID = 1\")\n",
    "    print(\"\\nUpdated 'To Kill a Mockingbird' year to 2025\")\n",
    "    \n",
    "    # Delete one book\n",
    "    cursor.execute(\"DELETE FROM Books WHERE BookID = 2\")\n",
    "    print(\"Deleted '1984'\")"
   ]
  },
  {
   "cell_type": "code",
   "execution_count": 9,
   "metadata": {},
   "outputs": [
    {
     "name": "stdout",
     "output_type": "stream",
     "text": [
      "\n",
      "All Books:\n",
      "(1, 'To Kill a Mockingbird', 'Harper Lee', 1960, 'Fiction')\n",
      "(2, '1984', 'George Orwell', 1949, 'Fiction')\n",
      "(3, 'The Great Gatsby', 'F. Scott Fitzgerald', 1925, 'Fiction')\n",
      "(4, 'Sapiens', 'Yuval Noah Harari', 2011, 'Non-Fiction')\n",
      "(5, 'The Hobbit', 'J.R.R. Tolkien', 1937, 'Fantasy')\n",
      "\n",
      "Books after 2000:\n",
      "('Sapiens', 'Yuval Noah Harari', 2011)\n",
      "\n",
      "Fiction Books:\n",
      "('To Kill a Mockingbird', 'Harper Lee')\n",
      "('1984', 'George Orwell')\n",
      "('The Great Gatsby', 'F. Scott Fitzgerald')\n",
      "\n",
      "Updated 'To Kill a Mockingbird' year to 2025\n",
      "Deleted '1984'\n",
      "\n",
      "Final state of database:\n",
      "(1, 'To Kill a Mockingbird', 'Harper Lee', 2025, 'Fiction')\n",
      "(3, 'The Great Gatsby', 'F. Scott Fitzgerald', 1925, 'Fiction')\n",
      "(4, 'Sapiens', 'Yuval Noah Harari', 2011, 'Non-Fiction')\n",
      "(5, 'The Hobbit', 'J.R.R. Tolkien', 1937, 'Fantasy')\n"
     ]
    }
   ],
   "source": [
    "def main():\n",
    "    # Setup\n",
    "    conn, cursor = create_database()\n",
    "    # Create table\n",
    "    create_table(cursor)\n",
    "    \n",
    "    # Insert initial data\n",
    "    insert_data(cursor)\n",
    "    \n",
    "    # Show initial state\n",
    "    query_data(cursor)\n",
    "    \n",
    "    # Perform manipulations\n",
    "    manipulate_data(cursor)\n",
    "    \n",
    "    # Show final state\n",
    "    print(\"\\nFinal state of database:\")\n",
    "    cursor.execute(\"SELECT * FROM Books\")\n",
    "    for row in cursor.fetchall():\n",
    "        print(row)\n",
    "    \n",
    "    # Commit changes and close\n",
    "    conn.commit()\n",
    "    conn.close()\n",
    "\n",
    "if __name__ == \"__main__\":\n",
    "    main()"
   ]
  }
 ],
 "metadata": {
  "kernelspec": {
   "display_name": "Python 3",
   "language": "python",
   "name": "python3"
  },
  "language_info": {
   "codemirror_mode": {
    "name": "ipython",
    "version": 3
   },
   "file_extension": ".py",
   "mimetype": "text/x-python",
   "name": "python",
   "nbconvert_exporter": "python",
   "pygments_lexer": "ipython3",
   "version": "3.12.1"
  }
 },
 "nbformat": 4,
 "nbformat_minor": 2
}
