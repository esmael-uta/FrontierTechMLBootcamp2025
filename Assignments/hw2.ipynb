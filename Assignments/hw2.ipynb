{
 "cells": [
  {
   "cell_type": "markdown",
   "id": "e545c6c4",
   "metadata": {},
   "source": [
    "Assignment: Binary Classification with Logistic Regression\n",
    "\n",
    "In this assignment, you will work with the Iris dataset to perform binary classification using logistic regression. The Iris dataset contains samples from three different species of iris flowers, but for this assignment, you will focus on classifying Iris Setosa (class 0) versus the combination of the other two classes (class 1).\n",
    "\n",
    "Here are the steps you need to follow for this assignment:\n",
    "\n",
    "Step 1: Load the Iris dataset\n",
    "\n",
    "Load the Iris dataset using sklearn.datasets.load_iris().\n",
    "Extract the feature matrix X and the target vector y.\n",
    "\n",
    "\n",
    "Step 2: Preprocess the data\n",
    "\n",
    "To convert this problem into binary classification, create a new target vector y_binary where Iris Setosa (class 0) is labeled as 1, and the other two classes are labeled as 0.\n",
    "\n",
    "\n",
    "Step 3: Split the dataset\n",
    "\n",
    "Split the dataset into training and testing sets using train_test_split() from sklearn.model_selection.\n",
    "Use 80% of the data for training and 20% for testing. Set the random_state to ensure reproducibility.\n",
    "\n",
    "Step 4: Define the cost function (logistic loss)\n",
    "\n",
    "Implement the logistic loss function, which calculates the cost of your model's predictions.\n",
    "\n",
    "Step 5: Define the training function\n",
    "\n",
    "Implement a training function that uses gradient descent to optimize the logistic regression model.\n",
    "The function should take input data, learning rate, number of iterations, and regularization parameter as arguments.\n",
    "\n",
    "Step 6: Train the model\n",
    "\n",
    "Use the training function to train your logistic regression model on the training data.\n",
    "Obtain the weight vector W and bias term b.\n",
    "\n",
    "\n",
    "Step 7: Define the prediction function\n",
    "\n",
    "Implement a prediction function that takes input data and the trained model's weights and bias.\n",
    "The prediction function should use the logistic sigmoid function to make binary predictions (0 or 1).\n",
    "\n",
    "\n",
    "Step 8: Predict on the test set\n",
    "\n",
    "Use the prediction function to predict the classes for the test set X_test using the obtained weights and bias.\n",
    "\n",
    "\n",
    "Step 9: Evaluate the model's performance\n",
    "\n",
    "Calculate the accuracy of your model using accuracy_score() from sklearn.metrics.\n",
    "Generate the confusion matrix using confusion_matrix() from sklearn.metrics.\n",
    "Generate the classification report using classification_report() from sklearn.metrics.\n",
    "Print out the accuracy, confusion matrix, and classification report to evaluate your model's performance.\n",
    "Make sure to comment your code and provide explanations for each step. This assignment will help you understand the basics of binary classification, logistic regression, and how to evaluate the performance of your model using various metrics."
   ]
  },
  {
   "cell_type": "code",
   "execution_count": 1,
   "id": "f956686e",
   "metadata": {},
   "outputs": [],
   "source": [
    "import numpy as np\n",
    "from sklearn.datasets import load_iris\n",
    "\n",
    "# Step 1: Load the Iris dataset\n",
    "iris = load_iris()\n",
    "\n",
    "\n"
   ]
  },
  {
   "cell_type": "code",
   "execution_count": null,
   "id": "0d500c2c",
   "metadata": {},
   "outputs": [],
   "source": []
  }
 ],
 "metadata": {
  "kernelspec": {
   "display_name": "Python 3 (ipykernel)",
   "language": "python",
   "name": "python3"
  },
  "language_info": {
   "codemirror_mode": {
    "name": "ipython",
    "version": 3
   },
   "file_extension": ".py",
   "mimetype": "text/x-python",
   "name": "python",
   "nbconvert_exporter": "python",
   "pygments_lexer": "ipython3",
   "version": "3.9.13"
  }
 },
 "nbformat": 4,
 "nbformat_minor": 5
}
