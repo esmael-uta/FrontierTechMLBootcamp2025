{
  "nbformat": 4,
  "nbformat_minor": 0,
  "metadata": {
    "colab": {
      "provenance": [],
      "toc_visible": true,
      "include_colab_link": true
    },
    "kernelspec": {
      "name": "python3",
      "display_name": "Python 3"
    },
    "language_info": {
      "name": "python"
    }
  },
  "cells": [
    {
      "cell_type": "markdown",
      "metadata": {
        "id": "view-in-github",
        "colab_type": "text"
      },
      "source": [
        "<a href=\"https://colab.research.google.com/github/esmael-uta/FrontierTechMLBootcamp2025/blob/main/FTL_pair_coding2.ipynb\" target=\"_parent\"><img src=\"https://colab.research.google.com/assets/colab-badge.svg\" alt=\"Open In Colab\"/></a>"
      ]
    },
    {
      "cell_type": "markdown",
      "source": [
        "# Question 1"
      ],
      "metadata": {
        "id": "ItANT4_93p4r"
      }
    },
    {
      "cell_type": "code",
      "execution_count": null,
      "metadata": {
        "id": "SpjjHZUw3Ujx",
        "outputId": "a19c2ffd-8c97-4f6a-c974-80493a8829ea",
        "colab": {
          "base_uri": "https://localhost:8080/"
        }
      },
      "outputs": [
        {
          "output_type": "stream",
          "name": "stdout",
          "text": [
            "Enter the radius of the circle: 20\n",
            "Circle with radius: 20.0\n",
            "Area: 1256.64\n",
            "Perimeter: 125.66\n"
          ]
        }
      ],
      "source": [
        "class Circle:\n",
        "    def __init__(self, radius):\n",
        "        self.radius = radius\n",
        "\n",
        "    def calculate_area(self):\n",
        "        return 3.1416 * (self.radius ** 2)  # Approximate value of π (pi)\n",
        "\n",
        "    def calculate_perimeter(self):\n",
        "        return 2 * 3.1416 * self.radius\n",
        "\n",
        "    def display_details(self):\n",
        "        print(f\"Circle with radius: {self.radius}\")\n",
        "        print(f\"Area: {self.calculate_area():.2f}\")\n",
        "        print(f\"Perimeter: {self.calculate_perimeter():.2f}\")\n",
        "\n",
        "# Example Usage\n",
        "radius = float(input(\"Enter the radius of the circle: \"))\n",
        "my_circle = Circle(radius)  # Creating an instance of the Circle class\n",
        "my_circle.display_details()  # Display the results"
      ]
    },
    {
      "cell_type": "markdown",
      "source": [
        "# Question 2"
      ],
      "metadata": {
        "id": "1NZh-cKy3xHy"
      }
    },
    {
      "cell_type": "code",
      "source": [
        "class calculator:\n",
        "  def add(self,a,b):\n",
        "    return a+b\n",
        "\n",
        "  def subtract(self,a,b):\n",
        "    return a-b\n",
        "\n",
        "  def multiply(self,a,b):\n",
        "    return a*b\n",
        "\n",
        "  def divide(self,a,b):\n",
        "    if b != 0:\n",
        "      return a/b\n",
        "    else:\n",
        "      return \"error! division by 0\"\n",
        "\n",
        "  def power(self,a,b):\n",
        "    return a**b\n",
        "\n",
        "\n",
        "calc=calculator()\n",
        "\n",
        "# Taking user input\n",
        "a = float(input(\"Enter the first number (a): \"))\n",
        "b = float(input(\"Enter the second number (b): \"))\n",
        "\n",
        "# Performing calculations\n",
        "print(\"Addition:\", calc.add(a, b))\n",
        "print(\"Subtraction:\", calc.subtract(a, b))\n",
        "print(\"Multiplication:\", calc.multiply(a, b))\n",
        "print(\"Division:\", calc.divide(a, b))\n",
        "print(\"Exponentiation:\", calc.power(a, b))"
      ],
      "metadata": {
        "colab": {
          "base_uri": "https://localhost:8080/"
        },
        "id": "y5fIswf_301W",
        "outputId": "79437bef-2c03-4c1a-e53c-08daf3551acd"
      },
      "execution_count": null,
      "outputs": [
        {
          "output_type": "stream",
          "name": "stdout",
          "text": [
            "Enter the first number (a): 6\n",
            "Enter the second number (b): 2\n",
            "Addition: 8.0\n",
            "Subtraction: 4.0\n",
            "Multiplication: 12.0\n",
            "Division: 3.0\n",
            "Exponentiation: 36.0\n"
          ]
        }
      ]
    },
    {
      "cell_type": "code",
      "source": [
        "calc.divide(2,0)"
      ],
      "metadata": {
        "colab": {
          "base_uri": "https://localhost:8080/",
          "height": 35
        },
        "id": "8-a3wut3B4UC",
        "outputId": "f0e4025c-5f7b-427f-a344-5676856d746c"
      },
      "execution_count": null,
      "outputs": [
        {
          "output_type": "execute_result",
          "data": {
            "text/plain": [
              "'error! division by 0'"
            ],
            "application/vnd.google.colaboratory.intrinsic+json": {
              "type": "string"
            }
          },
          "metadata": {},
          "execution_count": 5
        }
      ]
    },
    {
      "cell_type": "markdown",
      "source": [
        "# Question 3"
      ],
      "metadata": {
        "id": "quhcG9vk31Q0"
      }
    },
    {
      "cell_type": "code",
      "source": [
        "from datetime import date\n",
        "\n",
        "class Person:\n",
        "    def __init__(self, name, country, birth_year, birth_month, birth_day):\n",
        "        self.name = name\n",
        "        self.country = country\n",
        "        self.birth_date = date(birth_year, birth_month, birth_day)\n",
        "\n",
        "    def calculate_age(self):\n",
        "        today = date.today()\n",
        "        age = today.year - self.birth_date.year\n",
        "        if (today.month, today.day) < (self.birth_date.month, self.birth_date.day):\n",
        "            age -= 1\n",
        "        return age\n",
        "\n",
        "    def display_info(self):\n",
        "        print(\"\\nPerson Details:\")\n",
        "        print(f\"Name: {self.name}\")\n",
        "        print(f\"Country: {self.country}\")\n",
        "        print(f\"Date of Birth: {self.birth_date}\")\n",
        "        print(f\"Age: {self.calculate_age()} years old\")\n",
        "\n",
        "\n",
        "name = input(\"Enter your name: \")\n",
        "country = input(\"Enter your country: \")\n",
        "birth_year = int(input(\"Enter your birth year (YYYY): \"))\n",
        "birth_month = int(input(\"Enter your birth month (MM): \"))\n",
        "birth_day = int(input(\"Enter your birth day (DD): \"))\n",
        "user_person = Person(name, country, birth_year, birth_month, birth_day)\n",
        "user_person.display_info()\n"
      ],
      "metadata": {
        "id": "2gQvX8hI350n",
        "colab": {
          "base_uri": "https://localhost:8080/"
        },
        "outputId": "9ab9379b-f839-4b4b-cbdb-fff21f77bb7e"
      },
      "execution_count": null,
      "outputs": [
        {
          "output_type": "stream",
          "name": "stdout",
          "text": [
            "Enter your name: hhh\n",
            "Enter your country: Ethiopia\n",
            "Enter your birth year (YYYY): 1999\n",
            "Enter your birth month (MM): 5\n",
            "Enter your birth day (DD): 12\n",
            "\n",
            "Person Details:\n",
            "Name: hhh\n",
            "Country: Ethiopia\n",
            "Date of Birth: 1999-05-12\n",
            "Age: 25 years old\n"
          ]
        }
      ]
    },
    {
      "cell_type": "markdown",
      "source": [
        "# NASA API Exercise"
      ],
      "metadata": {
        "id": "-RRLO-5x95fw"
      }
    },
    {
      "cell_type": "code",
      "source": [
        "import requests"
      ],
      "metadata": {
        "id": "4_iNrETR99aW"
      },
      "execution_count": null,
      "outputs": []
    },
    {
      "cell_type": "code",
      "source": [
        "api_key = \"DEMO_KEY\"\n",
        "web_address = \"https://api.nasa.gov/planetary/apod\""
      ],
      "metadata": {
        "id": "QWa7AMEB-wX7"
      },
      "execution_count": null,
      "outputs": []
    },
    {
      "cell_type": "code",
      "source": [
        "params = {\n",
        "    \"api_key\": api_key\n",
        "}"
      ],
      "metadata": {
        "id": "YsmdmnDA-zkv"
      },
      "execution_count": null,
      "outputs": []
    },
    {
      "cell_type": "code",
      "source": [
        "response = requests.get(web_address, params=params)"
      ],
      "metadata": {
        "id": "nDdDNuqv-6Fk"
      },
      "execution_count": null,
      "outputs": []
    },
    {
      "cell_type": "code",
      "source": [
        "print(response.json())"
      ],
      "metadata": {
        "colab": {
          "base_uri": "https://localhost:8080/"
        },
        "id": "G6T_ynU_HZnB",
        "outputId": "ca1740b2-60db-46a6-d1d5-7bf289fd050d"
      },
      "execution_count": null,
      "outputs": [
        {
          "output_type": "stream",
          "name": "stdout",
          "text": [
            "{'date': '2025-03-08', 'explanation': \"The plane of our Milky Way galaxy extends beyond the limb of planet Earth in this space age exposure captured by astronaut Don Pettit. His camera, with low light and long duration settings, was pointed out the window of a Dragon crew spacecraft docked with the International Space Station on January 29. The orbital outpost was at an altitude of about 400 kilometers above the Pacific Ocean at the time. Motion blurs the Earth below, while the gorgeous view from low Earth orbit includes the Milky Way's prominent satellite galaxies, known as the Large and Small Magellanic Clouds, near the upper left in the frame. Fans of southern skies can also spot the Southern Cross. The four brightest stars of the famous southern constellation Crux are near picture center, just beyond the edge of the bright horizon and shining through Earth's orange tinted atmospheric glow.\", 'hdurl': 'https://apod.nasa.gov/apod/image/2503/iss072e574593_DonPetit2048.jpg', 'media_type': 'image', 'service_version': 'v1', 'title': 'Galaxies in Space', 'url': 'https://apod.nasa.gov/apod/image/2503/iss072e574593_DonPetit1024.jpg'}\n"
          ]
        }
      ]
    },
    {
      "cell_type": "code",
      "source": [
        "class APODResponse:\n",
        "    def __init__(self, title, date, explanation, media_type, url):\n",
        "        self.title = title\n",
        "        self.date = date\n",
        "        self.explanation = explanation\n",
        "        self.media_type = media_type\n",
        "        self.url = url\n",
        "\n",
        "if response.status_code == 200:\n",
        "    apod = APODResponse(\n",
        "        title=data['title'],\n",
        "        date=data['date'],\n",
        "        explanation=data['explanation'],\n",
        "        media_type=data['media_type'],\n",
        "        url=data['url']\n",
        "    )\n",
        "\n",
        "    print(\"\\nAPOD Object:\")\n",
        "    print(\"Title:\", apod.title)\n",
        "    print(\"Date:\", apod.date)\n",
        "    print(\"Explanation:\", apod.explanation)\n",
        "    print(\"Media Type:\", apod.media_type)\n",
        "    print(\"Media URL:\", apod.url)"
      ],
      "metadata": {
        "colab": {
          "base_uri": "https://localhost:8080/"
        },
        "id": "ks3nZGYUGosI",
        "outputId": "49b9c0d2-121a-4d67-d9bf-588f3868de32"
      },
      "execution_count": null,
      "outputs": [
        {
          "output_type": "stream",
          "name": "stdout",
          "text": [
            "\n",
            "APOD Object:\n",
            "Title: Galaxies in Space\n",
            "Date: 2025-03-08\n",
            "Explanation: The plane of our Milky Way galaxy extends beyond the limb of planet Earth in this space age exposure captured by astronaut Don Pettit. His camera, with low light and long duration settings, was pointed out the window of a Dragon crew spacecraft docked with the International Space Station on January 29. The orbital outpost was at an altitude of about 400 kilometers above the Pacific Ocean at the time. Motion blurs the Earth below, while the gorgeous view from low Earth orbit includes the Milky Way's prominent satellite galaxies, known as the Large and Small Magellanic Clouds, near the upper left in the frame. Fans of southern skies can also spot the Southern Cross. The four brightest stars of the famous southern constellation Crux are near picture center, just beyond the edge of the bright horizon and shining through Earth's orange tinted atmospheric glow.\n",
            "Media Type: image\n",
            "Media URL: https://apod.nasa.gov/apod/image/2503/iss072e574593_DonPetit1024.jpg\n"
          ]
        }
      ]
    },
    {
      "cell_type": "markdown",
      "source": [
        "# Web Scrapping"
      ],
      "metadata": {
        "id": "txgAlKQtJYKH"
      }
    },
    {
      "cell_type": "code",
      "source": [
        "!pip install beautifulsoup4 requests\n"
      ],
      "metadata": {
        "colab": {
          "base_uri": "https://localhost:8080/"
        },
        "id": "rIbPXohrJbT6",
        "outputId": "470372cc-0659-4730-9419-b6e7f11ca320"
      },
      "execution_count": null,
      "outputs": [
        {
          "output_type": "stream",
          "name": "stdout",
          "text": [
            "Requirement already satisfied: beautifulsoup4 in /usr/local/lib/python3.11/dist-packages (4.13.3)\n",
            "Requirement already satisfied: requests in /usr/local/lib/python3.11/dist-packages (2.32.3)\n",
            "Requirement already satisfied: soupsieve>1.2 in /usr/local/lib/python3.11/dist-packages (from beautifulsoup4) (2.6)\n",
            "Requirement already satisfied: typing-extensions>=4.0.0 in /usr/local/lib/python3.11/dist-packages (from beautifulsoup4) (4.12.2)\n",
            "Requirement already satisfied: charset-normalizer<4,>=2 in /usr/local/lib/python3.11/dist-packages (from requests) (3.4.1)\n",
            "Requirement already satisfied: idna<4,>=2.5 in /usr/local/lib/python3.11/dist-packages (from requests) (3.10)\n",
            "Requirement already satisfied: urllib3<3,>=1.21.1 in /usr/local/lib/python3.11/dist-packages (from requests) (2.3.0)\n",
            "Requirement already satisfied: certifi>=2017.4.17 in /usr/local/lib/python3.11/dist-packages (from requests) (2025.1.31)\n"
          ]
        }
      ]
    },
    {
      "cell_type": "code",
      "source": [
        "import os\n",
        "import requests\n",
        "from bs4 import BeautifulSoup\n",
        "from urllib.parse import urljoin"
      ],
      "metadata": {
        "id": "cDMgFa2TJd_2"
      },
      "execution_count": null,
      "outputs": []
    },
    {
      "cell_type": "code",
      "source": [
        "# Input: Website URL\n",
        "url = input(\"Enter the URL of the website: \")\n",
        "\n",
        "# Send HTTP request to fetch the webpage content\n",
        "response = requests.get(url)"
      ],
      "metadata": {
        "colab": {
          "base_uri": "https://localhost:8080/"
        },
        "id": "BBtuvXJ-JkM3",
        "outputId": "7730cd3b-c16d-42b7-889e-3bda19fb51ba"
      },
      "execution_count": null,
      "outputs": [
        {
          "name": "stdout",
          "output_type": "stream",
          "text": [
            "Enter the URL of the website: https://www.google.com/search?sca_esv=e7d996242d1e6e68&sxsrf=AHTn8zpN6dn9r9PutFATUrtUp65GxXCyxg:1741459803923&q=animal+images&udm=2&fbs=ABzOT_CWdhQLP1FcmU5B0fn3xuWpA-dk4wpBWOGsoR7DG5zJBjLjqIC1CYKD9D-DQAQS3Z49oR1qp-GHVCzRMbvBmBq7dvB0LfFrS0yfdVu9QC41FfnmUA8BGqCgTUOqxdhuY5xd_J4jijpoiGckU-PGJwiMIAxOP5sUSlEgz-7gAcLAg541zrc6eMyhiHKLlvAWDiuUlCckwhI5a5_QfupVmxvoz63RwA&sa=X&ved=2ahUKEwj3nYOok_uLAxUfZvUHHVWzO6cQtKgLegQIEBAB&biw=1266&bih=586&dpr=1.5\n"
          ]
        }
      ]
    },
    {
      "cell_type": "code",
      "source": [
        "if response.status_code == 200:\n",
        "    soup = BeautifulSoup(response.text, \"html.parser\")\n",
        "\n",
        "    folder_name = \"scraped_images\"\n",
        "    os.makedirs(folder_name, exist_ok=True)\n",
        "\n",
        "    img_tags = soup.find_all(\"img\")\n",
        "\n",
        "    # Download and save images\n",
        "    for i, img in enumerate(img_tags):\n",
        "        img_url = img.get(\"src\")\n",
        "        if img_url:\n",
        "          img_url = urljoin(url, img_url)\n",
        "\n",
        "          # Fetch image content\n",
        "          img_data = requests.get(img_url).content\n",
        "\n",
        "          # Save image to folder\n",
        "            with open(os.path.join(folder_name, f\"image_{i+1}.jpg\"), \"wb\") as f:\n",
        "                f.write(img_data)\n",
        "            print(f\"Downloaded: image_{i+1}.jpg\")\n",
        "\n",
        "    print(\"All images downloaded successfully!\")\n",
        "else:\n",
        "    print(\"Failed to fetch the webpage. Please check the URL.\")\n"
      ],
      "metadata": {
        "id": "SyJN-Z9HJ8Rg"
      },
      "execution_count": null,
      "outputs": []
    },
    {
      "cell_type": "code",
      "source": [
        "from google.colab import drive\n",
        "drive.mount('/content/drive')"
      ],
      "metadata": {
        "id": "iwnXy8TJGzrY"
      },
      "execution_count": null,
      "outputs": []
    },
    {
      "cell_type": "code",
      "source": [],
      "metadata": {
        "id": "h2dpi0yMKM0S"
      },
      "execution_count": null,
      "outputs": []
    },
    {
      "cell_type": "markdown",
      "source": [
        "# SQLite3"
      ],
      "metadata": {
        "id": "VG0vfA4GNjC7"
      }
    },
    {
      "cell_type": "code",
      "source": [],
      "metadata": {
        "id": "fFo4QSnKOQ5h"
      },
      "execution_count": null,
      "outputs": []
    },
    {
      "cell_type": "code",
      "source": [
        "import sqlite3\n",
        "\n",
        "# 1. Create the database and table\n",
        "def create_database():\n",
        "    \"\"\"Creates the 'School' database and the 'students' table.\"\"\"\n",
        "    conn = sqlite3.connect('School.db')  # Connect to the database (creates if not exists)\n",
        "    cursor = conn.cursor()\n",
        "\n",
        "    cursor.execute('''\n",
        "        CREATE TABLE IF NOT EXISTS students (\n",
        "            id INTEGER PRIMARY KEY,\n",
        "            last_name TEXT,\n",
        "            first_name TEXT,\n",
        "            age INTEGER\n",
        "        )\n",
        "    ''')\n",
        "\n",
        "    conn.commit()\n",
        "    conn.close()\n",
        "    print(\"Database 'School.db' and table 'students' created successfully.\")\n"
      ],
      "metadata": {
        "id": "uaVAbMy3NlXz"
      },
      "execution_count": null,
      "outputs": []
    },
    {
      "cell_type": "code",
      "source": [
        "# 2. Insert records (data)\n",
        "def insert_records(students_data):\n",
        "    \"\"\"Inserts multiple student records into the 'students' table.\"\"\"\n",
        "    conn = sqlite3.connect('School.db')\n",
        "    cursor = conn.cursor()\n",
        "\n",
        "    cursor.executemany('''\n",
        "        INSERT INTO students (last_name, first_name, age) VALUES (?, ?, ?)\n",
        "    ''', students_data)  # Use executemany for efficiency\n",
        "\n",
        "    conn.commit()\n",
        "    conn.close()\n",
        "    print(f\"{len(students_data)} records inserted successfully.\")"
      ],
      "metadata": {
        "id": "hhJAOkA5QKHn"
      },
      "execution_count": null,
      "outputs": []
    },
    {
      "cell_type": "code",
      "source": [
        "# 3. Modify records\n",
        "def modify_record(student_id, new_age):\n",
        "    \"\"\"Modifies the age of a student based on their ID.\"\"\"\n",
        "    conn = sqlite3.connect('School.db')\n",
        "    cursor = conn.cursor()\n",
        "\n",
        "    cursor.execute('''\n",
        "        UPDATE students SET age = ? WHERE id = ?\n",
        "    ''', (new_age, student_id))\n",
        "\n",
        "    if cursor.rowcount > 0:\n",
        "        conn.commit()\n",
        "        conn.close()\n",
        "        print(f\"Student with ID {student_id} updated successfully.\")\n",
        "    else:\n",
        "        conn.close()\n",
        "        print(f\"Student with ID {student_id} not found.\")"
      ],
      "metadata": {
        "id": "NIvVvxLjNxU2"
      },
      "execution_count": null,
      "outputs": []
    },
    {
      "cell_type": "code",
      "source": [
        "# 4. Perform a query to select data\n",
        "def select_all_students():\n",
        "    \"\"\"Retrieves all student records from the 'students' table.\"\"\"\n",
        "    conn = sqlite3.connect('School.db')\n",
        "    cursor = conn.cursor()\n",
        "\n",
        "    cursor.execute(\"SELECT * FROM students\")\n",
        "    rows = cursor.fetchall()\n",
        "\n",
        "    conn.close()\n",
        "    return rows\n",
        "\n",
        "# Example Usage:\n",
        "create_database()\n",
        "\n",
        "students = [\n",
        "    ('Doe', 'John', 16),\n",
        "    ('Smith', 'Jane', 17),\n",
        "    ('Williams', 'David', 15)\n",
        "]\n",
        "insert_records(students)\n",
        "\n",
        "modify_record(2, 18)  # Change Jane Smith's age to 18\n",
        "\n",
        "all_students = select_all_students()\n",
        "print(\"\\nAll Students:\")\n",
        "for student in all_students:\n",
        "    print(student)"
      ],
      "metadata": {
        "id": "B5QtaXovOaro",
        "colab": {
          "base_uri": "https://localhost:8080/"
        },
        "outputId": "e2957c04-58e1-4ca0-d550-185834c405b7"
      },
      "execution_count": null,
      "outputs": [
        {
          "output_type": "stream",
          "name": "stdout",
          "text": [
            "Database 'School.db' and table 'students' created successfully.\n",
            "3 records inserted successfully.\n",
            "Student with ID 2 updated successfully.\n",
            "\n",
            "All Students:\n",
            "(1, 'Doe', 'John', 16)\n",
            "(2, 'Smith', 'Jane', 18)\n",
            "(3, 'Williams', 'David', 15)\n"
          ]
        }
      ]
    }
  ]
}