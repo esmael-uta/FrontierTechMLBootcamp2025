{
  "nbformat": 4,
  "nbformat_minor": 0,
  "metadata": {
    "colab": {
      "provenance": [],
      "include_colab_link": true
    },
    "kernelspec": {
      "name": "python3",
      "display_name": "Python 3"
    },
    "language_info": {
      "name": "python"
    }
  },
  "cells": [
    {
      "cell_type": "markdown",
      "metadata": {
        "id": "view-in-github",
        "colab_type": "text"
      },
      "source": [
        "<a href=\"https://colab.research.google.com/github/esmael-uta/FrontierTechMLBootcamp2025/blob/main/FTL_pair_Coding.ipynb\" target=\"_parent\"><img src=\"https://colab.research.google.com/assets/colab-badge.svg\" alt=\"Open In Colab\"/></a>"
      ]
    },
    {
      "cell_type": "markdown",
      "source": [
        "## Question 1: Python exercises with the structures if else, for loop, while loop and range(), along with their solutions\n",
        "\n",
        "\n",
        "Create a new list from two lists using the following condition. Given two lists of numbers, write a program to create a new list so that the new list should contain the odd numbers of the first list and the even numbers of the second list."
      ],
      "metadata": {
        "id": "c_5u64RaPLbL"
      }
    },
    {
      "cell_type": "code",
      "source": [
        "def merge_odd_even(list1, list2):\n",
        "    new_list = [num for num in list1 if num % 2 != 0] + [num for num in list2 if num % 2 == 0]\n",
        "    return new_list\n",
        "\n",
        "list1 = [1, 2, 3, 4, 5]\n",
        "list2 = [6, 7, 8, 9, 10]\n",
        "result = merge_odd_even(list1, list2)\n",
        "print(result)"
      ],
      "metadata": {
        "id": "--PSP4NMPWgX",
        "colab": {
          "base_uri": "https://localhost:8080/"
        },
        "outputId": "18d60e8b-e361-48a4-dfa2-1ff8800b9ca3"
      },
      "execution_count": null,
      "outputs": [
        {
          "output_type": "stream",
          "name": "stdout",
          "text": [
            "[1, 3, 5, 6, 8, 10]\n"
          ]
        }
      ]
    },
    {
      "cell_type": "markdown",
      "source": [
        "Write a program to count the total number of digits in a number using a while loop. For example, the number is 75869, so the result should be 5."
      ],
      "metadata": {
        "id": "IHc8VegKcRQx"
      }
    },
    {
      "cell_type": "code",
      "source": [
        "def count_digits(num):\n",
        "    count = 0\n",
        "    while num != 0:\n",
        "        num =int (num/10)\n",
        "        count += 1\n",
        "    return count\n",
        "\n",
        "number = -75869\n",
        "print(count_digits(number))"
      ],
      "metadata": {
        "colab": {
          "base_uri": "https://localhost:8080/"
        },
        "id": "Vw-n6mR6W902",
        "outputId": "3bc6c781-4b98-4314-a75e-40e1b3522bad"
      },
      "execution_count": null,
      "outputs": [
        {
          "output_type": "stream",
          "name": "stdout",
          "text": [
            "5\n"
          ]
        }
      ]
    },
    {
      "cell_type": "markdown",
      "source": [
        "## Question 2: Python Functions Exercise\n",
        "\n",
        "Given two integers, return their product only if it is equal to or less than 1000, otherwise return their sum."
      ],
      "metadata": {
        "id": "0tELrLrcPjlO"
      }
    },
    {
      "cell_type": "code",
      "execution_count": null,
      "metadata": {
        "id": "8zwjCIUmOzvA",
        "colab": {
          "base_uri": "https://localhost:8080/"
        },
        "outputId": "663af376-2974-4ad0-9c95-17f9fb5ed8ab"
      },
      "outputs": [
        {
          "output_type": "stream",
          "name": "stdout",
          "text": [
            "80\n"
          ]
        }
      ],
      "source": [
        "def compute_result(a, b):\n",
        "  product = a * b\n",
        "  if product <= 1000:\n",
        "    return product\n",
        "  else:\n",
        "    return a + b\n",
        "num1 = 40\n",
        "num2 = 2\n",
        "result = compute_result(num1, num2)\n",
        "print(result)"
      ]
    },
    {
      "cell_type": "markdown",
      "source": [
        "## Question 3: Python List Exercise\n",
        "\n",
        "Remove all occurrences of a specific item from a list. Given a Python list, write a program to remove all occurrences of item 20."
      ],
      "metadata": {
        "id": "3t4tgMW-Pv1X"
      }
    },
    {
      "cell_type": "code",
      "source": [
        "def remove(list, occ):\n",
        "    return [x for x in list if x != occ]\n",
        "list1 = [1,2,3,5,3,7,8,9,3,10]\n",
        "print(remove(list1, 3))"
      ],
      "metadata": {
        "id": "TeNCYr6wPxcu",
        "colab": {
          "base_uri": "https://localhost:8080/"
        },
        "outputId": "1729dcfc-8d26-41ac-baa8-d34715760fb9"
      },
      "execution_count": null,
      "outputs": [
        {
          "output_type": "stream",
          "name": "stdout",
          "text": [
            "[1, 2, 5, 7, 8, 9, 10]\n"
          ]
        }
      ]
    },
    {
      "cell_type": "markdown",
      "source": [
        "## Question 4: Python tuple exercise\n",
        "\n",
        "Copy specific elements from a tuple to a new tuple Write a program to copy elements 44 and 55 of the next tuple into a new tuple."
      ],
      "metadata": {
        "id": "qjLiz9TcPypP"
      }
    },
    {
      "cell_type": "code",
      "source": [
        "numbers = (11, 22, 33, 44, 55, 66, 77)\n",
        "new_tuple = (numbers[3], numbers[4])\n",
        "print(new_tuple)"
      ],
      "metadata": {
        "id": "OJ6J0Af1P0bu",
        "colab": {
          "base_uri": "https://localhost:8080/"
        },
        "outputId": "1d4478e3-9b9c-4602-d430-a5537af54f6d"
      },
      "execution_count": null,
      "outputs": [
        {
          "output_type": "stream",
          "name": "stdout",
          "text": [
            "(44, 55)\n"
          ]
        }
      ]
    },
    {
      "cell_type": "markdown",
      "source": [
        "## Question 5: Python Dictionary Exercise\n",
        "\n",
        "Create a dictionary by extracting keys from a given dictionary Write a Python program to create a new dictionary by extracting the mentioned keys from the dictionary below.\n",
        "\n",
        "sample_dict = { \"name\": \"Kelly\", \"age\": 25, \"salary\": 8000, \"city\": \"New York\"}\n",
        "\n",
        "*keys to extract = [\"name\", \"salary\"]"
      ],
      "metadata": {
        "id": "HH5kPCnDP1lC"
      }
    },
    {
      "cell_type": "code",
      "source": [
        "sample_dict = {\n",
        "    \"name\": \"Kelly\",\n",
        "    \"age\": 25,\n",
        "    \"salary\": 8000,\n",
        "    \"city\": \"New York\"\n",
        "}\n",
        "keys= [\"name\", \"salary\"]\n",
        "\n",
        "new_dict = {key: sample_dict[key] for key in keys}\n",
        "\n",
        "print(new_dict)"
      ],
      "metadata": {
        "id": "u75oAmAkP25j",
        "colab": {
          "base_uri": "https://localhost:8080/"
        },
        "outputId": "aa8ad0da-de59-43a5-cf2d-26e524873f19"
      },
      "execution_count": null,
      "outputs": [
        {
          "output_type": "stream",
          "name": "stdout",
          "text": [
            "{'name': 'Kelly', 'salary': 8000}\n"
          ]
        }
      ]
    }
  ]
}