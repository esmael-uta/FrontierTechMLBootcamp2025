{
  "nbformat": 4,
  "nbformat_minor": 0,
  "metadata": {
    "colab": {
      "provenance": [],
      "authorship_tag": "ABX9TyOmevISFq8rOWDGwjrnctdg",
      "include_colab_link": true
    },
    "kernelspec": {
      "name": "python3",
      "display_name": "Python 3"
    },
    "language_info": {
      "name": "python"
    }
  },
  "cells": [
    {
      "cell_type": "markdown",
      "metadata": {
        "id": "view-in-github",
        "colab_type": "text"
      },
      "source": [
        "<a href=\"https://colab.research.google.com/github/esmael-uta/FrontierTechMLBootcamp2025/blob/main/Coding_challenge.ipynb\" target=\"_parent\"><img src=\"https://colab.research.google.com/assets/colab-badge.svg\" alt=\"Open In Colab\"/></a>"
      ]
    },
    {
      "cell_type": "markdown",
      "source": [
        "# Question 1\n",
        "Write a Python function that takes a sorted list of numbers and a target value as input and\n",
        "returns the index of the target value if found, otherwise returns -1 (Please use binary search)"
      ],
      "metadata": {
        "id": "SHMQubxS5TcL"
      }
    },
    {
      "cell_type": "code",
      "execution_count": 22,
      "metadata": {
        "colab": {
          "base_uri": "https://localhost:8080/"
        },
        "id": "mV1ed-f05QFx",
        "outputId": "19229960-6f08-4d23-cafe-53982ab88ba5"
      },
      "outputs": [
        {
          "output_type": "stream",
          "name": "stdout",
          "text": [
            "0\n"
          ]
        }
      ],
      "source": [
        "def binary_search(arr, target):\n",
        "    min = 0\n",
        "    max = len(arr) - 1\n",
        "\n",
        "    while min <= max:\n",
        "        mid = (min + max) // 2\n",
        "\n",
        "        if arr[mid] == target:\n",
        "            return mid\n",
        "        elif arr[mid] < target:\n",
        "            min = mid + 1\n",
        "        else:\n",
        "            max = mid - 1\n",
        "\n",
        "    return -1\n",
        "\n",
        "\n",
        "lst = [1, 2, 3, 5, 7, 9, 11, 13]\n",
        "target = 1\n",
        "print(binary_search(lst, target))\n"
      ]
    },
    {
      "cell_type": "markdown",
      "source": [
        "# Question 2\n",
        "Write a Python function factorial(n) that calculates the factorial of a non-negative integer n\n",
        "using recursion. Additionally, ensure that the function raises a ValueError if the input n is not\n",
        "a non-negative integer."
      ],
      "metadata": {
        "id": "3DIYLC0S6QXJ"
      }
    },
    {
      "cell_type": "code",
      "source": [
        "def factorial(n):\n",
        "    if n < 0:\n",
        "        raise ValueError(\"Please enter non negative integers.\")\n",
        "\n",
        "    if n == 0:\n",
        "        return 1\n",
        "\n",
        "    return n * factorial(n - 1)\n",
        "\n",
        "print(factorial(9))\n",
        "print(factorial(0))\n"
      ],
      "metadata": {
        "colab": {
          "base_uri": "https://localhost:8080/"
        },
        "id": "x0DXSjiP6RpT",
        "outputId": "7b3516ee-3433-4a0e-d728-b2d99629226b"
      },
      "execution_count": 25,
      "outputs": [
        {
          "output_type": "stream",
          "name": "stdout",
          "text": [
            "362880\n",
            "1\n"
          ]
        }
      ]
    },
    {
      "cell_type": "markdown",
      "source": [
        "# Question 3\n",
        "Write a function that takes an integer input and returns the sum of its digits."
      ],
      "metadata": {
        "id": "N6uyXkia7BFd"
      }
    },
    {
      "cell_type": "code",
      "source": [
        "def sum_digits(n):\n",
        "  digits = str(abs(n))\n",
        "  total = 0\n",
        "  for digit in digits:\n",
        "    total += int(digit)\n",
        "  return total\n",
        "\n",
        "print(sum_digits(19234))\n",
        "print(sum_digits(-567))\n",
        "print(sum_digits(0))\n"
      ],
      "metadata": {
        "colab": {
          "base_uri": "https://localhost:8080/"
        },
        "id": "qL6A9LlV7OUV",
        "outputId": "19077680-1ea4-46cd-f4c1-8f8bdb33f34d"
      },
      "execution_count": 8,
      "outputs": [
        {
          "output_type": "stream",
          "name": "stdout",
          "text": [
            "19\n",
            "18\n",
            "0\n"
          ]
        }
      ]
    },
    {
      "cell_type": "markdown",
      "source": [
        "# Question 4\n",
        "Word Count in Text File: Write a program to count the occurrences of each word in a given\n",
        "text file. Rotate: Modify the program to exclude common stop words from the word count.  \n",
        "There should be 4 function named as read_text_from_file(file_path), count_words(text),\n",
        "print_word_count(word_count) and main(file_path)."
      ],
      "metadata": {
        "id": "MlqYh1jU8Zlm"
      }
    },
    {
      "cell_type": "code",
      "source": [
        "import string\n",
        "STOP_WORDS = {\"the\", \"is\", \"in\", \"and\", \"to\", \"a\", \"of\", \"that\", \"this\", \"for\", \"on\", \"it\", \"as\", \"with\", \"was\", \"at\", \"by\", \"an\", \"be\", \"or\", \"are\", \"from\", \"but\"}\n",
        "\n",
        "def read_text_from_file(file_path):\n",
        "    try:\n",
        "        with open(file_path, 'r', encoding='utf-8') as file:\n",
        "            return file.read()\n",
        "    except FileNotFoundError:\n",
        "        print(\"Error: File not found.\")\n",
        "        return \"\"\n",
        "\n",
        "def count_words(text):\n",
        "\n",
        "    text = text.lower().translate(str.maketrans(\"\", \"\", string.punctuation))\n",
        "    words = text.split()\n",
        "    word_count = {}\n",
        "\n",
        "    for word in words:\n",
        "        if word not in STOP_WORDS:\n",
        "            word_count[word] = word_count.get(word, 0) + 1\n",
        "\n",
        "    return word_count\n",
        "\n",
        "def print_word_count(word_count):\n",
        "    \"\"\"Prints word occurrences sorted by frequency.\"\"\"\n",
        "    sorted_words = sorted(word_count.items(), key=lambda x: x[1], reverse=True)\n",
        "\n",
        "    for word, count in sorted_words:\n",
        "        print(f\"{word}: {count}\")\n",
        "\n",
        "def main(file_path):\n",
        "    \"\"\"Main function to read, count, and print word occurrences.\"\"\"\n",
        "    text = read_text_from_file(file_path)\n",
        "    if text:\n",
        "        word_count = count_words(text)\n",
        "        print_word_count(word_count)\n",
        "\n",
        "if __name__ == \"__main__\":\n",
        "    file_path = \"sample.txt\"\n",
        "    main(file_path)\n"
      ],
      "metadata": {
        "id": "V6Ca22Ev8pGu"
      },
      "execution_count": null,
      "outputs": []
    },
    {
      "cell_type": "markdown",
      "source": [
        "# Question 5\n",
        "Given a string s consisting of lowercase alphabets, your task is to compress it in the most\n",
        "efficient manner possible. The compression should be done such that if the compressed\n",
        "string is longer than the original string, then return the original string.\n",
        "The compression rule is as follows:\n",
        "If a character c appears consecutively in the string, then it should be replaced by c followed\n",
        "by the number of consecutive occurrences of c.\n",
        "For example:\n",
        "\"aabcccccaaa\" should be compressed to \"a2b1c5a3\".\n",
        "\"abc\" should remain as \"abc\" as the compressed version is longer.\n",
        "Write a function compress_string(s: str) -> str to accomplish this task. Constraints:\n",
        "The input string s consists of only lowercase English letters.\n",
        "The length of input string is between 1 and 10^4."
      ],
      "metadata": {
        "id": "mC5qBsfK_CMS"
      }
    },
    {
      "cell_type": "code",
      "source": [
        "def compress_string(s):\n",
        "    compressed = []\n",
        "    count = 1\n",
        "\n",
        "    for i in range(1, len(s)):\n",
        "        if s[i] == s[i - 1]:\n",
        "            count += 1\n",
        "        else:\n",
        "            compressed.append(s[i - 1] + str(count))\n",
        "            count = 1\n",
        "\n",
        "    compressed.append(s[-1] + str(count))\n",
        "\n",
        "    compressed_string = \"\".join(compressed)\n",
        "\n",
        "    return compressed_string if len(compressed_string) < len(s) else s\n",
        "\n",
        "print(compress_string(\"aabbccccaaa\"))\n",
        "print(compress_string(\"abc\"))\n",
        "print(compress_string(\"aaabbbccc\"))\n",
        "print(compress_string(\"aabbb\"))\n"
      ],
      "metadata": {
        "colab": {
          "base_uri": "https://localhost:8080/"
        },
        "id": "ivZrskpb_IZm",
        "outputId": "d53273ad-59d0-48cd-cdc2-cec3c13a93d3"
      },
      "execution_count": 28,
      "outputs": [
        {
          "output_type": "stream",
          "name": "stdout",
          "text": [
            "a2b2c4a3\n",
            "abc\n",
            "a3b3c3\n",
            "a2b3\n"
          ]
        }
      ]
    }
  ]
}